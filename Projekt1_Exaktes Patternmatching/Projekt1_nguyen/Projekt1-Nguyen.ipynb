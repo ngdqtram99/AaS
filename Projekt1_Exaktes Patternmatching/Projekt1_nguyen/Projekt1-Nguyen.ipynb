{
 "cells": [
  {
   "cell_type": "markdown",
   "id": "aab660a7",
   "metadata": {},
   "source": [
    "# Algorithmen auf Sequenzen\n",
    "\n",
    "## Projekt 1: Patternmatching\n",
    "\n",
    "### *Name: Dang Quynh Tram Nguyen*\n",
    "\n",
    "**SimpleSearch und Horspool-Algorithmen und Vergleiche zählen**\n",
    "\n",
    "Angaben"
   ]
  },
  {
   "cell_type": "code",
   "execution_count": 1,
   "id": "35c4dc2b",
   "metadata": {},
   "outputs": [],
   "source": [
    "p = \"tram\"\n",
    "s = \"dangquynhtramnguyen\"\n",
    "pattern = list(p)\n",
    "sequence = list(s)"
   ]
  },
  {
   "cell_type": "markdown",
   "id": "d4d75d8e",
   "metadata": {},
   "source": [
    "1. SimpleSearch Algorithmus"
   ]
  },
  {
   "cell_type": "code",
   "execution_count": 2,
   "id": "3a366740",
   "metadata": {},
   "outputs": [],
   "source": [
    "count = 0 #Anzahl der Vergleiche\n",
    "\n",
    "def SimpleSearch(pattern,string):\n",
    "    m = len(pattern)\n",
    "    n = len(string)\n",
    "    match = list()\n",
    "    \n",
    "    for pos in range(n-m+1):\n",
    "        teilstring = string[pos:pos+m]\n",
    "        #pos+m statt pos+m-1, weil die letzte Postion nicht einschließlich ist.\n",
    "        \n",
    "        if Match_SS(pattern,teilstring): #Wenn diese Funktion abgeruft wird, wird count trotz false verändert\n",
    "            match.append(pos)\n",
    "            \n",
    "    return match\n",
    "    \n",
    "def Match_SS(pattern,teilstring):\n",
    "    m = len(pattern)\n",
    "    global count #Die globale Variable count wird innerhalb der Funktion verändert\n",
    "    for i in range(m):\n",
    "        count += 1\n",
    "        if (pattern[i] != teilstring[i]):\n",
    "            return False\n",
    "    return True"
   ]
  },
  {
   "cell_type": "markdown",
   "id": "933bb5d5",
   "metadata": {},
   "source": [
    "Beispiel mit SimpleSearch Algorithmus"
   ]
  },
  {
   "cell_type": "code",
   "execution_count": 3,
   "id": "06ce9377",
   "metadata": {},
   "outputs": [
    {
     "name": "stdout",
     "output_type": "stream",
     "text": [
      "Es gibt 1 Treffer an der/den Position(-en) [9]\n",
      "Insgesamt braucht der Algorithmus 19 Vergleiche\n"
     ]
    }
   ],
   "source": [
    "match = SimpleSearch(pattern,sequence)\n",
    "treffer = len(match)\n",
    "print(\"Es gibt\",treffer,\"Treffer an der/den Position(-en)\",match)\n",
    "print(\"Insgesamt braucht der Algorithmus\",count,\"Vergleiche\")"
   ]
  },
  {
   "cell_type": "markdown",
   "id": "5c65cb65",
   "metadata": {},
   "source": [
    "2. Horspool Algorithmus"
   ]
  },
  {
   "cell_type": "code",
   "execution_count": 4,
   "id": "90a76fc1",
   "metadata": {},
   "outputs": [],
   "source": [
    "count = 0 #Anzahl der Vergleiche\n",
    "\n",
    "def Horspool(pattern,sequence):\n",
    "    shift_table = dict()\n",
    "    m = len(pattern)\n",
    "    n = len(sequence)\n",
    "    match_position = list() #list alle Positionen des Patterns in der Sequenz (äq. einer Zeile des Textes)\n",
    "    \n",
    "    #bildet die Shift-Tabelle mit nur Charaktere (Buchstaben) im Pattern, außer den letzten\n",
    "    for i in range(m-1): #nimmt alle Indexe außer den letzten \n",
    "        shift_table[pattern[i]] = m-i-1 #weil i von 0...m-2 ist\n",
    "\n",
    "    pos = 0\n",
    "    while pos < n-m+1:\n",
    "        teilstring = sequence[pos:pos+m]\n",
    "        #alle Stellen von pos bis pos+m-1, weil den letzte Index pos+m ungültig ist.\n",
    "        if(Match_H(pattern,teilstring)):\n",
    "            match_position.append(pos)\n",
    "            \n",
    "        if(teilstring[m-1]) in shift_table.keys():\n",
    "            pos += shift_table[teilstring[m-1]]\n",
    "        else: pos += m\n",
    "    \n",
    "    return match_position\n",
    "            \n",
    "            \n",
    "def Match_H(pattern,teilstring):\n",
    "    m = len(pattern)\n",
    "    global count \n",
    "    for i in range(m-1,-1,-1): #i von m...1. Die Vergleichrichtung startet von der letzten Buchstabe\n",
    "        count += 1\n",
    "        if(pattern[i] != teilstring[i]):\n",
    "            return False\n",
    "    return True"
   ]
  },
  {
   "cell_type": "markdown",
   "id": "6bfdabe9",
   "metadata": {},
   "source": [
    "Beispiel mit Horspool Algorithmus"
   ]
  },
  {
   "cell_type": "code",
   "execution_count": 5,
   "id": "64c70511",
   "metadata": {},
   "outputs": [
    {
     "name": "stdout",
     "output_type": "stream",
     "text": [
      "Es gibt 1 Treffer an der/den Position(-en) [9]\n",
      "Insgesamt braucht der Algorithmus 8 Vergleiche\n"
     ]
    }
   ],
   "source": [
    "match = Horspool(pattern,sequence)\n",
    "treffer = len(match)\n",
    "print(\"Es gibt\",treffer,\"Treffer an der/den Position(-en)\",match)\n",
    "print(\"Insgesamt braucht der Algorithmus\",count,\"Vergleiche\")"
   ]
  },
  {
   "cell_type": "markdown",
   "id": "5f94eeb0",
   "metadata": {},
   "source": [
    "**Testen: Schneewittchen**"
   ]
  },
  {
   "cell_type": "markdown",
   "id": "ddbdec1c",
   "metadata": {},
   "source": [
    "Lesen den File und konvertieren alle zu Kleinbuchstaben"
   ]
  },
  {
   "cell_type": "code",
   "execution_count": 6,
   "id": "92fee497",
   "metadata": {},
   "outputs": [],
   "source": [
    "file = open(\"Schneewittchen_(1850).txt\",\"r\")\n",
    "file_read = list()\n",
    "file_read_sequence = list()\n",
    "for x in file:\n",
    "    file_read.append(x)\n",
    "    file_read_sequence.append(list(x.casefold()))"
   ]
  },
  {
   "cell_type": "markdown",
   "id": "863841f8",
   "metadata": {},
   "source": [
    "Funktion um die besonderen Charaktere im Text zu bearbeiten"
   ]
  },
  {
   "cell_type": "code",
   "execution_count": 7,
   "id": "2017b31f",
   "metadata": {},
   "outputs": [],
   "source": [
    "def aendert_umlaut_und_zeichen(file_read):\n",
    "    for l in file_read:\n",
    "        for letter in l:\n",
    "            if letter in [\"ä\",\"ö\",\"ü\"]:\n",
    "                index = l.index(letter)\n",
    "                l.pop(index)\n",
    "                if letter == \"ä\": l.insert(index,\"a\")\n",
    "                if letter == \"o\": l.insert(index,\"o\")\n",
    "                if letter == \"ü\": l.insert(index,\"u\")\n",
    "                l.insert(index+1,\"e\")\n",
    "            if letter in [\"„\",\"“\"]:\n",
    "                index = l.index(letter)\n",
    "                l.pop(index)\n",
    "                l.insert(index,\"\\\"\")"
   ]
  },
  {
   "cell_type": "code",
   "execution_count": 8,
   "id": "403bc003",
   "metadata": {
    "scrolled": false
   },
   "outputs": [],
   "source": [
    "aendert_umlaut_und_zeichen(file_read_sequence)"
   ]
  },
  {
   "cell_type": "markdown",
   "id": "cc8f173e",
   "metadata": {},
   "source": [
    "Funktion gibt ein Dictionary aller Positionen eines Patterns im Text zurück"
   ]
  },
  {
   "cell_type": "code",
   "execution_count": 9,
   "id": "d1b081f9",
   "metadata": {},
   "outputs": [],
   "source": [
    "def dict_positionen(text,pattern):\n",
    "    dict_position_pattern = dict()\n",
    "    treffer = 0\n",
    "    \n",
    "    for line in text:\n",
    "        match_position = Horspool(pattern,line)\n",
    "        treffer += len(match_position)\n",
    "        if(len(match_position) > 0):\n",
    "            dict_position_pattern[text.index(line)] = match_position\n",
    "    \n",
    "    print(treffer,\"Treffer sind im Text gefunden\")\n",
    "    return dict_position_pattern"
   ]
  },
  {
   "cell_type": "markdown",
   "id": "66112019",
   "metadata": {},
   "source": [
    "Suche nach alle \"zwerg\" im Text"
   ]
  },
  {
   "cell_type": "code",
   "execution_count": 10,
   "id": "d22e76e2",
   "metadata": {
    "scrolled": true
   },
   "outputs": [
    {
     "name": "stdout",
     "output_type": "stream",
     "text": [
      "Pattern \"zwerg\":\n",
      "22 Treffer sind im Text gefunden\n",
      "in der Zeile 71 an den Positionen [96, 1362]\n",
      "[309] Als es ganz dunkel geworden war, kamen die Herren von dem Häuslein, das waren die sieben Zwerge, die in den Bergen nach Erz hackten und gruben. Sie zündeten ihre sieben Lichtlein an, und wie es nun hell im Häuslein ward, sahen sie daß jemand darin gewesen war, denn es stand nicht alles so in der Ordnung, wie sie es verlassen hatten. Der erste sprach „wer hat auf meinem Stühlchen gesessen?“ Der zweite „wer hat von meinem Tellerchen gegessen?“ Der dritte „wer hat von meinem Brötchen genommen?“ Der vierte „wer hat von meinem Gemüschen gegessen?“ Der fünfte „wer hat mit meinem Gäbelchen gestochen?“ Der sechste „wer hat mit meinem Messerchen geschnitten?“ Der siebente „wer hat aus meinem Becherlein getrunken?“ Dann sah sich der erste um und sah daß auf seinem Bett eine kleine Dälle war, da sprach er „wer hat in mein Bettchen getreten?“ Die andern kamen gelaufen und riefen „in meinem hat auch jemand gelegen.“ Der siebente aber, als er in sein Bett sah, erblickte Sneewittchen, das lag darin und schlief. Nun rief er die andern, die kamen herbeigelaufen, und schrien vor Verwunderung, holten ihre sieben Lichtlein, und beleuchteten Sneewittchen. „Ei, du mein Gott! ei, du mein Gott!“ riefen sie, „was ist das Kind so schön!“ und hatten so große Freude, daß sie es nicht aufweckten, sondern im Bettlein fortschlafen ließen. Der siebente Zwerg aber schlief bei seinen Gesellen, bei jedem eine Stunde, da war die Nacht herum.\n",
      "\n",
      "in der Zeile 73 an den Positionen [64, 249, 475, 976]\n",
      "Als es Morgen war, erwachte Sneewittchen, und wie es die sieben Zwerge sah, erschrack es. Sie waren aber freundlich und fragten „wie heißt du?“ Ich heiße Sneewittchen“ antwortete es. [310] „Wie bist du in unser Haus gekommen?“ sprachen weiter die Zwerge. Da erzählte es ihnen daß seine Stiefmutter es hätte wollen umbringen lassen, der Jäger hätte ihm aber das Leben geschenkt, und da wär es gelaufen den ganzen Tag, bis es endlich ihr Häuslein gefunden hätte. Die Zwerge sprachen „willst du unsern Haushalt versehen, kochen, betten, waschen, nähen und stricken, und willst du alles ordentlich und reinlich halten, so kannst du bei uns bleiben, und es soll dir an nichts fehlen.“ „Ja,“ sagte Sneewittchen „von Herzen gern,“ und blieb bei ihnen. Es hielt ihnen das Haus in Ordnung: Morgens giengen sie in die Berge und suchten Erz und Gold, Abends kamen sie wieder, und da mußte ihr Essen bereit sein. Den Tag über war das Mädchen allein, da warnten es die guten Zwerglein und sprachen „hüte dich vor deiner Stiefmutter, die wird bald wissen daß du hier bist; laß ja niemand herein.“\n",
      "\n",
      "in der Zeile 89 an der Position [15]\n",
      "bei den sieben Zwergen\n",
      "\n",
      "in der Zeile 95 an der Position [532]\n",
      "Da erschrack sie, denn sie wußte, daß der Spiegel keine Unwahrheit sprach, und merkte daß der Jäger sie betrogen hatte, und Sneewittchen [311] noch am Leben war. Und da sann und sann sie aufs neue, wie sie es umbringen wollte; denn so lange sie nicht die schönste war im ganzen Land, ließ ihr der Neid keine Ruhe. Und als sie sich endlich etwas ausgedacht hatte, färbte sie sich das Gesicht, und kleidete sich wie eine alte Krämerin, und war ganz unkenntlich. In dieser Gestalt gieng sie über die sieben Berge zu den sieben Zwergen, klopfte an die Thüre, und rief „schöne Waare feil! feil!“ Sneewittchen guckte zum Fenster heraus und rief „guten Tag, liebe Frau, was habt ihr zu verkaufen?“ „Gute Waare, schöne Waare,“ antwortete sie, „Schnürriemen von allen Farben,“ und holte einen hervor, der aus bunter Seide geflochten war. „Die ehrliche Frau kann ich herein lassen“ dachte Sneewittchen, riegelte die Thüre auf und kaufte sich den hübschen Schnürriemen. „Kind,“ sprach die Alte, „wie du aussiehst! komm, ich will dich einmal ordentlich schnüren.“ Sneewittchen hatte kein Arg, stellte sich vor sie, und ließ sich mit dem neuen Schnürriemen schnüren: aber die Alte schnürte geschwind und schnürte so fest, daß dem Sneewittchen der Athem vergieng, und es für todt hinfiel. „Nun bist du die schönste gewesen“ sprach sie, und eilte hinaus.\n",
      "\n",
      "in der Zeile 97 an den Positionen [52, 412]\n",
      "Nicht lange darauf, zur Abendzeit, kamen die sieben Zwerge nach Haus, aber wie erschraken sie, als sie ihr liebes Sneewittchen auf der Erde liegen sahen; und es regte und bewegte sich nicht, als wäre es todt. Sie hoben es in die Höhe, und weil sie sahen daß es zu fest geschnürt war, schnitten sie den Schnürriemen entzwei: da fieng es an ein wenig zu athmen, und ward nach und nach wieder lebendig. Als die Zwerge hörten was geschehen war, sprachen sie, [312] „die alte Krämerfrau war niemand als die gottlose Königin: hüte dich und laß keinen Menschen herein, wenn wir nicht bei dir sind.“\n",
      "\n",
      "in der Zeile 119 an den Positionen [424, 1221]\n",
      "Als sie das hörte, lief ihr alles Blut zum Herzen, so erschrack sie, denn sie sah wohl daß Sneewittchen wieder lebendig geworden war. „Nun aber,“ sprach sie, „will ich etwas aussinnen, das dich zu Grunde richten soll,“ und mit Hexenkünsten, die sie verstand, machte sie einen giftigen Kamm. Dann verkleidete sie sich und nahm die Gestalt eines andern alten Weibes an. So gieng sie hin über die sieben Berge zu den sieben Zwergen, klopfte an die Thüre, und rief „gute Waare feil!“ feil!“ Sneewittchen schaute heraus und sprach „geht nur weiter, ich darf niemand hereinlassen.“ „Das Ansehen wird dir doch erlaubt sein“ sprach die Alte, zog den giftigen Kamm heraus und hielt ihn in die Höhe. Da gefiel er dem Kinde so gut, daß es sich bethören ließ und die Thüre öffnete. Als sie des Kaufs einig waren, sprach die Alte „nun will ich dich einmal ordentlich kämmen.“ Das arme Sneewittchen dachte an nichts, und ließ die Alte gewähren, aber kaum hatte sie den Kamm [313] in die Haare gesteckt, als das Gift darin wirkte, und das Mädchen ohne Besinnung niederfiel. „Du Ausbund von Schönheit,“ sprach das boshafte Weib, „jetzt ists um dich geschehen,“ und gieng fort. Zum Glück aber war es bald Abend, wo die sieben Zwerglein nach Haus kamen. Als sie Sneewittchen wie todt auf der Erde liegen sahen, hatten sie gleich die Stiefmutter in Verdacht, suchten nach, und fanden den giftigen Kamm, und kaum hatten sie ihn herausgezogen, so kam Sneewittchen wieder zu sich, und erzählte was vorgegangen war. Da warnten sie es noch einmal auf seiner Hut zu sein und niemand die Thüre zu öffnen.\n",
      "\n",
      "in der Zeile 141 an den Positionen [587, 722, 1596]\n",
      "Als sie den Spiegel so reden hörte, zitterte und bebte sie vor Zorn. „Sneewittchen soll sterben,“ rief sie, „und wenn es mein eigenes Leben kostet.“ Darauf gieng sie in eine ganz verborgene einsame Kammer, wo niemand hinkam, und machte da einen giftigen giftigen Apfel. Äußerlich sah er schön aus, weiß mit rothen Backen, daß jeder, der ihn erblickte, Lust danach bekam, aber wer ein Stückchen davon aß, der mußte sterben. Als der Apfel fertig war, färbte sie sich das Gesicht, und verkleidete sich in eine Bauersfrau, und [314] so gieng sie über die sieben Berge zu den sieben Zwergen. Sie klopfte an, Sneewittchen streckte den Kopf zum Fenster heraus, und sprach „ich darf keinen Menschen einlassen, die sieben Zwerge haben mirs verboten.“ „Mir auch recht,“ antwortete die Bäurin, „meine Äpfel will ich schon los werden. Da, einen will ich dir schenken.“ „Nein,“ sprach Sneewittchen, „ich darf nichts annehmen.“ „Fürchtest du dich vor Gift?“ sprach die Alte, „siehst du, da schneide ich den Apfel in zwei Theile; den rothen Backen iß du, den weißen will ich essen.“ Der Apfel war aber so künstlich gemacht, daß der rothe Backen allein vergiftet war. Sneewittchen lusterte den schönen Apfel an, und als es sah, daß die Bäurin davon aß, so konnte es nicht länger widerstehen, streckte die Hand hinaus und nahm die giftige Hälfte. Kaum aber hatte es einen Bissen davon im Mund, so fiel es todt zur Erde nieder. Da betrachtete es die Königin mit grausigen Blicken und lachte überlaut, und sprach „weiß wie Schnee, roth wie Blut, schwarz wie Ebenholz! diesmal können dich die Zwerge nicht wieder erwecken.“ Und als sie daheim den Spiegel befragte,\n",
      "\n",
      "in der Zeile 157 an der Position [4]\n",
      "Die Zwerglein, wie sie Abends nach Haus kamen, fanden Sneewittchen auf der Erde liegen, und es gieng kein Athem mehr [315] aus seinem Mund, und es war todt. Sie hoben es auf, suchten ob sie was giftiges fänden, schnürten es auf, kämmten ihm die Haare, wuschen es mit Wasser und Wein, aber es half alles nichts; das liebe Kind war todt und blieb todt. Sie legten es auf eine Bahre und setzten sich alle siebene daran und beweinten es, und weinten drei Tage lang. Da wollten sie es begraben, aber es sah noch so frisch aus wie ein lebender Mensch, und hatte noch seine schönen rothen Backen. Sie sprachen „das können wir nicht in die schwarze Erde versenken,“ und ließen einen durchsichtigen Sarg von Glas machen, daß man es von allen Seiten sehen konnte, legten es hinein, und schrieben mit goldenen Buchstaben seinen Namen darauf, und daß es eine Königstochter wäre. Dann setzten sie den Sarg hinaus auf den Berg, und einer von ihnen blieb immer dabei, und bewachte ihn. Und die Thiere kamen auch und beweinten Sneewittchen, erst eine Eule, dann ein Rabe, zuletzt ein Täubchen.\n",
      "\n",
      "in der Zeile 159 an den Positionen [267, 450, 538, 791]\n",
      "Nun lag Sneewittchen lange lange Zeit in dem Sarg und verweste nicht, sondern sah aus als wenn es schliefe, denn es war noch so weiß als Schnee, so roth als Blut, und so schwarzhaarig wie Ebenholz. Es geschah aber, daß ein Königssohn in den Wald gerieth und zu dem Zwergenhaus kam, da zu übernachten. Er sah auf dem Berg den Sarg, und das schöne Sneewittchen darin, und las, was mit goldenen Buchstaben darauf geschrieben war. Da sprach er zu den Zwergen „laßt mir den Sarg, ich will euch geben, was ihr dafür haben wollt.“ Aber die Zwerge antworteten „wir geben ihn nicht um alles Gold in der Welt.“ Da sprach er [316] „so schenkt mir ihn, denn ich kann nicht leben ohne Sneewittchen zu sehen, ich will es ehren und hochachten wie mein Liebstes.“ Wie er so sprach, empfanden die guten Zwerglein Mitleiden mit ihm und gaben ihm den Sarg. Der Königssohn ließ ihn nun von seinen Dienern auf den Schultern forttragen. Da geschah es, daß sie über einen Strauch stolperten, und von dem Schüttern fuhr der giftige Apfelgrütz, den Sneewittchen abgebissen hatte, aus dem Hals. Und nicht lange so öffnete es die Augen, hob den Deckel vom Sarg in die Höhe, und richtete sich auf, und war wieder lebendig. „Ach Gott, wo bin ich?“ rief es. Der Königssohn sagte voll Freude „du bist bei mir,“ und erzählte was sich zugetragen hatte und sprach „ich habe dich lieber als alles auf der Welt; komm mit mir in meines Vaters Schloß, du sollst meine Gemahlin werden.“ Da war ihm Sneewittchen gut und gieng mit ihm, und ihre Hochzeit ward mit großer Pracht und Herrlichkeit angeordnet.\n",
      "\n",
      "Insgesamt sind 4336 Vergleiche benötigt\n"
     ]
    }
   ],
   "source": [
    "pattern1 = list(\"zwerg\")\n",
    "count = 0\n",
    "print(\"Pattern \\\"zwerg\\\":\")\n",
    "dict_positionen_zwerg = dict_positionen(file_read_sequence,pattern1)\n",
    "\n",
    "for line in dict_positionen_zwerg.keys():\n",
    "    #Position des Pattern (in welcher Zeile und wo genau)\n",
    "    if len(dict_positionen_zwerg[line]) == 1:\n",
    "        print(\"in der Zeile\",line,\"an der Position\",dict_positionen_zwerg[line])\n",
    "    else: \n",
    "        print(\"in der Zeile\",line,\"an den Positionen\",dict_positionen_zwerg[line])\n",
    "    #Zeile, die das Pattern enthält\n",
    "    print(file_read[line])\n",
    "    \n",
    "vergleiche_zwerg = count\n",
    "print(\"Insgesamt sind\",vergleiche_zwerg,\"Vergleiche benötigt\")"
   ]
  },
  {
   "cell_type": "markdown",
   "id": "96ea1c62",
   "metadata": {},
   "source": [
    "Suche nach alle \"zwerg\", die nicht in zum Wort \"zwerge\" gehört\n",
    "\n",
    "Idee: Eliminiation der gefundenen Positionen von \"zwerge\" aus \"zwerg\"-Dictionary"
   ]
  },
  {
   "cell_type": "code",
   "execution_count": 11,
   "id": "27520568",
   "metadata": {},
   "outputs": [
    {
     "name": "stdout",
     "output_type": "stream",
     "text": [
      "Pattern \"zwerge\":\n",
      "17 Treffer sind im Text gefunden\n",
      "Insgesamt sind 4230 Vergleiche benötigt\n",
      "5 Treffer \"zwerg\", die nicht zum Wort \"zwerge\" gehören, im Text gefunden\n",
      "in der Zeile 71 an der Position [1362]\n",
      "in der Zeile 73 an der Position [976]\n",
      "in der Zeile 119 an der Position [1221]\n",
      "in der Zeile 157 an der Position [4]\n",
      "in der Zeile 159 an der Position [791]\n"
     ]
    }
   ],
   "source": [
    "pattern2 = \"zwerge\"\n",
    "count = 0\n",
    "\n",
    "print(\"Pattern \\\"zwerge\\\":\")\n",
    "dict_positionen_zwerge = dict_positionen(file_read_sequence,pattern2)\n",
    "vergleiche_zwerge = count\n",
    "print(\"Insgesamt sind\",vergleiche_zwerge,\"Vergleiche benötigt\")\n",
    "\n",
    "dict_pos_zwerg_not_in_zwerge = dict()\n",
    "treffer = 0\n",
    "for line in dict_positionen_zwerg.keys():\n",
    "    list_pos_zwerg_not_in_zwerge = dict_positionen_zwerg[line].copy()\n",
    "    \n",
    "    #Prüft, ob der Schlüssel line vom \"zwerg\"-Dictionary auch den vom \"zwerge\"-Dictionary ist \n",
    "    if line in dict_positionen_zwerge.keys(): \n",
    "        #Elimination der Positionen von \"zwerge\" in der \"zwerg\"-Liste\n",
    "        for pos in dict_positionen_zwerge[line]:\n",
    "            list_pos_zwerg_not_in_zwerge.remove(pos)\n",
    "    \n",
    "    #Prüft die noch gültige Positionen. Wenn es nichts ergibt, wird die Zeile vernachlässigt\n",
    "    if len(list_pos_zwerg_not_in_zwerge) > 0:\n",
    "        dict_pos_zwerg_not_in_zwerge[line] = list_pos_zwerg_not_in_zwerge\n",
    "        treffer += len(list_pos_zwerg_not_in_zwerge)\n",
    "\n",
    "print(treffer,\"Treffer \\\"zwerg\\\", die nicht zum Wort \\\"zwerge\\\" gehören, im Text gefunden\")\n",
    "for line in dict_pos_zwerg_not_in_zwerge.keys():\n",
    "    #Position des Pattern (in welcher Zeile und wo genau)\n",
    "    if len(dict_pos_zwerg_not_in_zwerge[line]) == 1:\n",
    "        print(\"in der Zeile\",line,\"an der Position\",dict_pos_zwerg_not_in_zwerge[line])\n",
    "    else: \n",
    "        print(\"in der Zeile\",line,\"an den Positionen\",dict_pos_zwerg_not_in_zwerge[line])"
   ]
  },
  {
   "cell_type": "markdown",
   "id": "95229d27",
   "metadata": {},
   "source": [
    "**Vergleich SimpleSearch und Horspool**\n",
    "\n",
    "Lesen den File und konvertieren ihn zu einer Liste mit nur Buchstaben"
   ]
  },
  {
   "cell_type": "code",
   "execution_count": 12,
   "id": "a9fcbb34",
   "metadata": {},
   "outputs": [],
   "source": [
    "file2 = open(\"ABAB.txt\",\"r\")\n",
    "sequence = list()\n",
    "\n",
    "for line in file2:\n",
    "    l = list(line)\n",
    "    for w in l:\n",
    "        if(w == \"\\n\"): l.remove(w)\n",
    "    sequence.extend(l)"
   ]
  },
  {
   "cell_type": "markdown",
   "id": "17c20316",
   "metadata": {},
   "source": [
    "Pattern \"ABA\""
   ]
  },
  {
   "cell_type": "code",
   "execution_count": 13,
   "id": "a21af834",
   "metadata": {
    "scrolled": false
   },
   "outputs": [
    {
     "name": "stdout",
     "output_type": "stream",
     "text": [
      "Mit Pattern \"ABA\"\n",
      "sind 7196 Vergleiche benötigt beim SimpleSearch Algorithmus\n",
      "sind 5397 Vergleiche benötigt beim Horspool Algorithmus\n",
      "Insgesamt sind 1799 Treffer gefunden\n"
     ]
    }
   ],
   "source": [
    "pattern1 = list(\"ABA\")\n",
    "print(\"Mit Pattern \\\"ABA\\\"\")\n",
    "\n",
    "count = 0\n",
    "matchSS_aba = SimpleSearch(pattern1,sequence)\n",
    "print(\"sind\",count,\"Vergleiche benötigt beim SimpleSearch Algorithmus\")\n",
    "\n",
    "count = 0\n",
    "matchH_aba = Horspool(pattern1,sequence)\n",
    "print(\"sind\",count,\"Vergleiche benötigt beim Horspool Algorithmus\")\n",
    "\n",
    "#Prüfen ob die Ergebnisse von 2 Methoden ähnlich sind\n",
    "if matchSS_aba == matchH_aba:\n",
    "    print(\"Insgesamt sind\",len(matchH_aba),\"Treffer gefunden\")"
   ]
  },
  {
   "cell_type": "markdown",
   "id": "40d0a957",
   "metadata": {},
   "source": [
    "Pattern \"CCC\""
   ]
  },
  {
   "cell_type": "code",
   "execution_count": 14,
   "id": "5515a562",
   "metadata": {},
   "outputs": [
    {
     "name": "stdout",
     "output_type": "stream",
     "text": [
      "Mit Pattern \"CCC\"\n",
      "sind 3598 Vergleiche benötigt beim SimpleSearch Algorithmus\n",
      "sind 1200 Vergleiche benötigt beim Horspool Algorithmus\n",
      "Keiner Treffer\n"
     ]
    }
   ],
   "source": [
    "pattern2 = list(\"CCC\")\n",
    "print(\"Mit Pattern \\\"CCC\\\"\")\n",
    "\n",
    "count = 0\n",
    "matchSS_ccc = SimpleSearch(pattern2,sequence)\n",
    "print(\"sind\",count,\"Vergleiche benötigt beim SimpleSearch Algorithmus\")\n",
    "\n",
    "count = 0\n",
    "matchH_ccc = Horspool(pattern2,sequence)\n",
    "print(\"sind\",count,\"Vergleiche benötigt beim Horspool Algorithmus\")\n",
    "\n",
    "#Prüfen ob die Ergebnisse von 2 Methode ähnlich sind\n",
    "if matchSS_ccc == matchH_ccc:\n",
    "    if(len(matchH_ccc) == 0): \n",
    "        print(\"Keiner Treffer\")\n",
    "    else: print(len(matchH_ccc),\"Treffer sind gefunden\")"
   ]
  }
 ],
 "metadata": {
  "kernelspec": {
   "display_name": "Python 3 (ipykernel)",
   "language": "python",
   "name": "python3"
  },
  "language_info": {
   "codemirror_mode": {
    "name": "ipython",
    "version": 3
   },
   "file_extension": ".py",
   "mimetype": "text/x-python",
   "name": "python",
   "nbconvert_exporter": "python",
   "pygments_lexer": "ipython3",
   "version": "3.8.10"
  }
 },
 "nbformat": 4,
 "nbformat_minor": 5
}
