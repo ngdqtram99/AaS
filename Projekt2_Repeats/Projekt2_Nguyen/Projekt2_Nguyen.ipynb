{
 "cells": [
  {
   "cell_type": "markdown",
   "id": "4eb8c856",
   "metadata": {},
   "source": [
    "# Projekt 2: Sekundärstrukturen von RNAs\n",
    "\n",
    "## Name: Dang Quynh Tram Nguyen\n",
    "\n",
    "**Aufgabe 1: RNAs**"
   ]
  },
  {
   "cell_type": "code",
   "execution_count": 1,
   "id": "b7bfced7",
   "metadata": {},
   "outputs": [],
   "source": [
    "ff = open('miRNA.fasta','r')\n",
    "fasta_file = ff.readlines()\n",
    "mi_rna = fasta_file[1]"
   ]
  },
  {
   "cell_type": "code",
   "execution_count": null,
   "id": "ce9b52ba",
   "metadata": {},
   "outputs": [],
   "source": [
    "# Knoten für Suffix Baum\n",
    "class Knoten:\n",
    "    def __init__(self, blatt_str, arg):\n",
    "        self.blatt = blatt_str\n",
    "        if isinstance(arg, list):\n",
    "            assert len(arg) > 1, 'Ein Knoten muss mind. 2 Kinder'\n",
    "            for i in arg: assert isinstance(i, Knoten), 'Index der Knoten Liste ist kein Knoten'\n",
    "            self.kinder = arg\n",
    "        else:\n",
    "            self.pos = arg\n",
    "            \n",
    "    def add(self, knoten : Knoten):\n",
    "        #assert isinstance(knoten, Knoten)\n",
    "        self.kinder.append(knoten)\n",
    "    "
   ]
  },
  {
   "cell_type": "markdown",
   "id": "536bb52f",
   "metadata": {},
   "source": [
    "reverse Komplenment für ein RNA-Sequenz"
   ]
  },
  {
   "cell_type": "code",
   "execution_count": 2,
   "id": "f09a7e93",
   "metadata": {},
   "outputs": [],
   "source": [
    "def Reverse_komplement(rna_sequenz):\n",
    "    kom_sequenz = str()\n",
    "    \n",
    "    for nu in rna_sequenz:\n",
    "        if nu == \"A\": kom_sequenz += \"U\"\n",
    "        elif nu == \"U\": kom_sequenz += \"A\"\n",
    "        elif nu == \"G\": kom_sequenz += \"C\"\n",
    "        elif nu == \"C\": kom_sequenz += \"G\"\n",
    "        else: #Falls die Sequenz nicht passende Base enthält\n",
    "            print(nu, \"ist kein Nukleotid für RNA\")\n",
    "            break\n",
    "    \n",
    "    #die komplementäre Sequenz wird umgekehrt\n",
    "    rev_kom_seq = kom_sequenz[::-1]\n",
    "\n",
    "    return rev_kom_seq"
   ]
  },
  {
   "cell_type": "code",
   "execution_count": 3,
   "id": "54a7bba9",
   "metadata": {
    "scrolled": true
   },
   "outputs": [
    {
     "name": "stdout",
     "output_type": "stream",
     "text": [
      "GGAGCUUAUCAGAAUCUCCAGGGGUACUUUAUAAUUUCAAAAAGUCCCCCAGGUGUGAUUCUGAUUUGCUUC\n",
      "GAAGCAAAUCAGAAUCACACCUGGGGGACUUUUUGAAAUUAUAAAGUACCCCUGGAGAUUCUGAUAAGCUCC\n"
     ]
    }
   ],
   "source": [
    "rev_kom_sequenz = Reverse_komplement(mi_rna)\n",
    "print(mi_rna)\n",
    "print(rev_kom_sequenz)"
   ]
  },
  {
   "cell_type": "markdown",
   "id": "65d608dc",
   "metadata": {},
   "source": [
    "**Aufgabe 2: maximale Repeats**\n",
    "\n",
    "Funktion für Suffix Array und Suffix Dictionary von einer RNA"
   ]
  },
  {
   "cell_type": "code",
   "execution_count": 4,
   "id": "88208902",
   "metadata": {},
   "outputs": [],
   "source": [
    "def Suffix(rna, dict_pos_suffix, list_sort_suffix):\n",
    "    for i in range(len(rna)):\n",
    "        suffix = rna[i:len(rna)]\n",
    "        \n",
    "        list_sort_suffix.append(suffix)\n",
    "        dict_pos_suffix[suffix] = i\n",
    "    list_sort_suffix.sort()"
   ]
  },
  {
   "cell_type": "code",
   "execution_count": 5,
   "id": "3eb1b557",
   "metadata": {},
   "outputs": [],
   "source": [
    "#Suffix Array und Suffix Dictionary von mi_RNA\n",
    "dict_suffix_rna = dict()\n",
    "list_sort_rna = list()\n",
    "Suffix(mi_rna,dict_suffix_rna,list_sort_rna)\n",
    "\n",
    "#Suffix Array und Suffix Dictionary von reversen Komplement\n",
    "dict_suffix_rev_kom = dict()\n",
    "list_sort_rev_kom = list()\n",
    "Suffix(rev_kom_sequenz,dict_suffix_rev_kom,list_sort_rev_kom)\n"
   ]
  },
  {
   "cell_type": "markdown",
   "id": "11fa2fed",
   "metadata": {},
   "source": [
    "Funktion für die Suche in Suffix Array"
   ]
  },
  {
   "cell_type": "code",
   "execution_count": 6,
   "id": "80fc57c2",
   "metadata": {},
   "outputs": [],
   "source": [
    "def SASearch(pattern,list_sort_suffix_rna):\n",
    "    #Es gibt keine Bedingung für die Länge des Patterns\n",
    "    links = 0\n",
    "    rechts = len(list_sort_suffix_rna)-1\n",
    "    #print(\"rechts\",rechts)\n",
    "    while (rechts - links > 1):\n",
    "        mitte = int((rechts+links)/2)\n",
    "        #print(\"mitte\",mitte)\n",
    "        if pattern <= list_sort_suffix_rna[mitte]: rechts = mitte\n",
    "        else: links = mitte\n",
    "\n",
    "    #print(\"pos\",rechts)\n",
    "    return rechts"
   ]
  },
  {
   "cell_type": "markdown",
   "id": "dbdb5c48",
   "metadata": {},
   "source": [
    "Funktion zum Vergleich dem Pattern und dem RNA-Abschnitt"
   ]
  },
  {
   "cell_type": "code",
   "execution_count": 7,
   "id": "7a0783d9",
   "metadata": {},
   "outputs": [],
   "source": [
    "def Match(pattern,rna):\n",
    "    match = 0\n",
    "    \n",
    "    if len(pattern) <= len(rna):\n",
    "        for i in range(len(pattern)):\n",
    "            if pattern[i] != rna[i]:\n",
    "                match = i\n",
    "                break\n",
    "            else: match = i + 1 #falls ganzer pattern passt \n",
    "    else:\n",
    "        for i in range(len(rna)):\n",
    "            if pattern[i] != rna[i]: \n",
    "                match = i\n",
    "                break\n",
    "            else: match = i + 1\n",
    "                \n",
    "    return match        "
   ]
  },
  {
   "cell_type": "markdown",
   "id": "bc55c7aa",
   "metadata": {},
   "source": [
    "Funktion zur Suche der Repeats mittels der Funktion SASearch"
   ]
  },
  {
   "cell_type": "code",
   "execution_count": 8,
   "id": "09336210",
   "metadata": {},
   "outputs": [],
   "source": [
    "def repeat_of_a_pattern(pattern,list_sort_rna):\n",
    "    global dict_suffix_rna\n",
    "    global dict_suffix_rev_kom\n",
    "    global list_repeats\n",
    "    \n",
    "    \n",
    "    tem_list_sort_rna = list_sort_rna.copy()\n",
    "    repeat_list = []\n",
    "\n",
    "    pos_repeat_in_sarray = SASearch(pattern,tem_list_sort_rna)\n",
    "    length_repeat = Match(pattern,tem_list_sort_rna[pos_repeat_in_sarray])\n",
    "    while length_repeat > 3: #nur Repeat mit Länge größer als 3 akzeptiert\n",
    "        #ein gefundenes Repeat und seine Infos werden unter eine Liste gespeichert und in der gesamte Liste addiert\n",
    "        #repeat_list enthält: \n",
    "            #erste Position des Abschnitt des maximalen Repeats\n",
    "            #erste Position des komplementären Abschnitt (= Länge der RNA -1 - Position im reverseren Komplement - Länge des Abschnittes + 1)\n",
    "            #die Länge des Abschnitt\n",
    "        repeat_list = [dict_suffix_rna[tem_list_sort_rna[pos_repeat_in_sarray]],len(dict_suffix_rev_kom) - dict_suffix_rev_kom[pattern] - length_repeat,length_repeat]\n",
    "        list_repeats.append(repeat_list)\n",
    "        \n",
    "        #Finden weitere Vorkommen\n",
    "        tem_list_sort_rna.remove(tem_list_sort_rna[pos_repeat_in_sarray])\n",
    "        pos_repeat_in_sarray = SASearch(pattern,tem_list_sort_rna)\n",
    "        length_repeat = Match(pattern,tem_list_sort_rna[pos_repeat_in_sarray])\n",
    "    \n",
    "    "
   ]
  },
  {
   "cell_type": "code",
   "execution_count": 9,
   "id": "949a6d7c",
   "metadata": {},
   "outputs": [],
   "source": [
    "#Eine Liste von allen Repeats in RNA\n",
    "#Es enthält alle Liste, die jeweils beinhaltet \n",
    "    #erste Position des Abschnitt des maximalen Repeats\n",
    "    #erste Position des komplementären Abschnitt\n",
    "    #die Länge des Abschnitt\n",
    "    \n",
    "list_repeats = []"
   ]
  },
  {
   "cell_type": "code",
   "execution_count": 10,
   "id": "4a28f4b5",
   "metadata": {},
   "outputs": [
    {
     "name": "stdout",
     "output_type": "stream",
     "text": [
      "[[40, 25, 5], [41, 25, 4], [12, 56, 4], [12, 62, 4], [32, 32, 4], [10, 56, 6], [2, 2, 4], [30, 28, 4], [30, 5, 4], [7, 55, 4], [7, 56, 9], [57, 7, 8], [9, 56, 7], [15, 0, 4], [60, 7, 5], [11, 56, 5], [56, 7, 9], [62, 12, 4], [0, 15, 4], [20, 45, 4], [20, 46, 4], [23, 23, 4], [29, 28, 5], [8, 56, 8], [59, 7, 6], [55, 7, 4], [61, 7, 4], [28, 28, 6], [5, 30, 4], [58, 7, 7], [64, 37, 4]]\n",
      "31\n"
     ]
    }
   ],
   "source": [
    "for i in range(len(list_sort_rev_kom)):\n",
    "    repeat_of_a_pattern(list_sort_rev_kom[i],list_sort_rna)\n",
    "\n",
    "print(list_repeats)\n",
    "print(len(list_repeats))"
   ]
  },
  {
   "cell_type": "markdown",
   "id": "67d1f63c",
   "metadata": {},
   "source": [
    "Ändert die Indizes der Position vom Komplementpaar. Erst die kleinere, dann die größere Stelle. Weil die Reihefolge zweier Abschnitten nicht so wichtig ist, kann sie einfach geändert werden, um klar zu sein und später schnell filtert zu werden"
   ]
  },
  {
   "cell_type": "code",
   "execution_count": 11,
   "id": "3370a2a1",
   "metadata": {},
   "outputs": [
    {
     "name": "stdout",
     "output_type": "stream",
     "text": [
      "[[25, 40, 5], [25, 41, 4], [12, 56, 4], [12, 62, 4], [32, 32, 4], [10, 56, 6], [2, 2, 4], [28, 30, 4], [5, 30, 4], [7, 55, 4], [7, 56, 9], [7, 57, 8], [9, 56, 7], [0, 15, 4], [7, 60, 5], [11, 56, 5], [7, 56, 9], [12, 62, 4], [0, 15, 4], [20, 45, 4], [20, 46, 4], [23, 23, 4], [28, 29, 5], [8, 56, 8], [7, 59, 6], [7, 55, 4], [7, 61, 4], [28, 28, 6], [5, 30, 4], [7, 58, 7], [37, 64, 4]]\n",
      "31\n"
     ]
    }
   ],
   "source": [
    "for repeat in list_repeats:\n",
    "    if repeat[1] < repeat[0]:\n",
    "        a = repeat[0]\n",
    "        repeat[0] = repeat[1]\n",
    "        repeat[1] = a\n",
    "print(list_repeats)\n",
    "print(len(list_repeats))"
   ]
  },
  {
   "cell_type": "markdown",
   "id": "4f67d0fa",
   "metadata": {},
   "source": [
    "Entfernt die Verdoppelung"
   ]
  },
  {
   "cell_type": "code",
   "execution_count": 12,
   "id": "8c6fa187",
   "metadata": {},
   "outputs": [
    {
     "name": "stdout",
     "output_type": "stream",
     "text": [
      "[[25, 40, 5], [25, 41, 4], [12, 56, 4], [12, 62, 4], [32, 32, 4], [10, 56, 6], [2, 2, 4], [28, 30, 4], [5, 30, 4], [7, 55, 4], [7, 56, 9], [7, 57, 8], [9, 56, 7], [0, 15, 4], [7, 60, 5], [11, 56, 5], [20, 45, 4], [20, 46, 4], [23, 23, 4], [28, 29, 5], [8, 56, 8], [7, 59, 6], [7, 61, 4], [28, 28, 6], [7, 58, 7], [37, 64, 4]]\n",
      "26\n"
     ]
    }
   ],
   "source": [
    "new_list_repeats = []\n",
    "\n",
    "for repeat in list_repeats:\n",
    "    if repeat not in new_list_repeats:\n",
    "        new_list_repeats.append(repeat)\n",
    "        \n",
    "print(new_list_repeats)\n",
    "print(len(new_list_repeats))"
   ]
  },
  {
   "cell_type": "markdown",
   "id": "e1c2647a",
   "metadata": {},
   "source": [
    "Filter 1: längste Abschnitte vom selben Start1 und selben Stop2\n",
    "\n",
    "########### Methode ist falsch irgendwo"
   ]
  },
  {
   "cell_type": "code",
   "execution_count": 13,
   "id": "d209e272",
   "metadata": {},
   "outputs": [
    {
     "name": "stdout",
     "output_type": "stream",
     "text": [
      "[[25, 44, 5], [25, 44, 4], [12, 59, 4], [12, 65, 4], [32, 35, 4], [10, 61, 6], [2, 5, 4], [28, 33, 4], [5, 33, 4], [7, 58, 4], [7, 64, 9], [7, 64, 8], [9, 62, 7], [0, 18, 4], [7, 64, 5], [11, 60, 5], [20, 48, 4], [20, 49, 4], [23, 26, 4], [28, 33, 5], [8, 63, 8], [7, 64, 6], [7, 64, 4], [28, 33, 6], [7, 64, 7], [37, 67, 4]]\n",
      "26\n"
     ]
    }
   ],
   "source": [
    "new_list_repeats2 = []\n",
    "\n",
    "#stop = start + length - 1\n",
    "#je neue Liste in der Liste enthält:\n",
    "    #erste Postion der ersten Abschnitt des Repeats\n",
    "    #letzte Position der zweiten Aschnitt\n",
    "    #Länge des Repeats\n",
    "for rep in new_list_repeats:\n",
    "    new_list_repeats2.append(rep)\n",
    "    new_rep = new_list_repeats2[-1]\n",
    "    new_rep[1] += new_rep[2] - 1 #start2 -> stop2\n",
    "print(new_list_repeats2)\n",
    "print(len(new_list_repeats2))"
   ]
  },
  {
   "cell_type": "markdown",
   "id": "5baeed43",
   "metadata": {},
   "source": [
    "Funktion um das längste Länge von einem Ende zu finden. Diese werden 2 mal genutzt für die Start- und Stopenden der Abschnitten"
   ]
  },
  {
   "cell_type": "code",
   "execution_count": 14,
   "id": "275bd524",
   "metadata": {},
   "outputs": [],
   "source": [
    "def max_rep_on_an_end(list_repeats):\n",
    "    #Sortiert abwärts\n",
    "    new_list_repeats2_sort = sorted(new_list_repeats2, key=lambda x: (x[0],x[1],x[2]),reverse=True)\n",
    "    #print(new_list_repeats2_sort)\n",
    "    #print(len(new_list_repeats2_sort))\n",
    "    \n",
    "    #Filter\n",
    "    new_list_repeats2_filter = [new_list_repeats2_sort[0]]\n",
    "\n",
    "    for i in range(1,len(new_list_repeats2_sort)):\n",
    "        pre_rep = new_list_repeats2_sort[i-1]\n",
    "        rep = new_list_repeats2_sort[i]\n",
    "        if pre_rep[0] != rep[0] or pre_rep[1] != rep[1]:\n",
    "            new_list_repeats2_filter.append(rep)\n",
    "    #print(new_list_repeats2_filter)\n",
    "    #print(len(new_list_repeats2_filter))\n",
    "    \n",
    "    return new_list_repeats2_filter"
   ]
  },
  {
   "cell_type": "code",
   "execution_count": 15,
   "id": "55b93a0c",
   "metadata": {},
   "outputs": [
    {
     "name": "stdout",
     "output_type": "stream",
     "text": [
      "[[37, 67, 4], [32, 35, 4], [28, 33, 6], [25, 44, 5], [23, 26, 4], [20, 49, 4], [20, 48, 4], [12, 65, 4], [12, 59, 4], [11, 60, 5], [10, 61, 6], [9, 62, 7], [8, 63, 8], [7, 64, 9], [7, 58, 4], [5, 33, 4], [2, 5, 4], [0, 18, 4]]\n",
      "18\n"
     ]
    }
   ],
   "source": [
    "new_list_repeats2_filter = max_rep_on_an_end(new_list_repeats2)\n",
    "print(new_list_repeats2_filter)\n",
    "print(len(new_list_repeats2_filter))"
   ]
  },
  {
   "cell_type": "code",
   "execution_count": 16,
   "id": "912805fa",
   "metadata": {},
   "outputs": [
    {
     "name": "stdout",
     "output_type": "stream",
     "text": [
      "37 CAAA UUUG 67\n",
      "32 AAUU AAUU 35\n",
      "28 UUAUAA UUAUAA 33\n",
      "25 ACUUU AAAGU 44\n",
      "23 GUAC GUAC 26\n",
      "20 GGGG CCCC 49\n",
      "20 GGGG CCCC 48\n",
      "12 AAUC GAUU 65\n",
      "12 AAUC GAUU 59\n",
      "11 GAAUC GAUUC 60\n",
      "10 AGAAUC GAUUCU 61\n",
      "9 CAGAAUC GAUUCUG 62\n",
      "8 UCAGAAUC GAUUCUGA 63\n",
      "7 AUCAGAAUC GAUUCUGAU 64\n",
      "7 AUCA UGAU 58\n",
      "5 UUAU AUAA 33\n",
      "2 AGCU AGCU 5\n",
      "0 GGAG CUCC 18\n"
     ]
    }
   ],
   "source": [
    "for rep in new_list_repeats2_filter:\n",
    "    print(rep[0],mi_rna[rep[0]:rep[0]+rep[2]],mi_rna[rep[1]-rep[2]+1:rep[1]+1],rep[1])"
   ]
  },
  {
   "cell_type": "markdown",
   "id": "5410c98c",
   "metadata": {},
   "source": [
    "Filter 2: längsten Abschnitte vom selben Stop1 und selben Start2\n",
    "\n",
    "########## Methode ist falsch irgendwo"
   ]
  },
  {
   "cell_type": "code",
   "execution_count": 17,
   "id": "50daae60",
   "metadata": {},
   "outputs": [
    {
     "name": "stdout",
     "output_type": "stream",
     "text": [
      "[[40, 64, 4], [35, 32, 4], [33, 28, 6], [29, 40, 5], [26, 23, 4], [23, 46, 4], [23, 45, 4], [15, 62, 4], [15, 56, 4], [15, 56, 5], [15, 56, 6], [15, 56, 7], [15, 56, 8], [15, 56, 9], [10, 55, 4], [8, 30, 4], [5, 2, 4], [3, 15, 4]]\n",
      "18\n"
     ]
    }
   ],
   "source": [
    "new_list_repeats3 = []\n",
    "\n",
    "#stop = start + length - 1\n",
    "#je neue Liste in der Liste enthält:\n",
    "    #letze Postion der ersten Abschnitt des Repeats\n",
    "    #erste Position der zweiten Aschnitt\n",
    "    #Länge des Repeats\n",
    "for rep in new_list_repeats2_filter:\n",
    "    new_list_repeats3.append(rep)\n",
    "    new_rep = new_list_repeats3[-1]\n",
    "    new_rep[0] += new_rep[2] - 1 #start1 -> stop1\n",
    "    new_rep[1] = new_rep[1] - new_rep[2] + 1 #stop2 -> start2\n",
    "    \n",
    "print(new_list_repeats3)\n",
    "print(len(new_list_repeats3))"
   ]
  },
  {
   "cell_type": "code",
   "execution_count": 18,
   "id": "016b528c",
   "metadata": {},
   "outputs": [
    {
     "name": "stdout",
     "output_type": "stream",
     "text": [
      "[[40, 64, 4], [35, 32, 4], [33, 28, 6], [29, 40, 5], [28, 33, 5], [26, 23, 4], [25, 44, 4], [23, 46, 4], [23, 45, 4], [15, 62, 4], [15, 56, 9], [10, 55, 4], [8, 30, 4], [7, 64, 8], [5, 2, 4], [3, 15, 4]]\n",
      "16\n"
     ]
    }
   ],
   "source": [
    "new_list_repeats3_filter = max_rep_on_an_end(new_list_repeats3)\n",
    "print(new_list_repeats3_filter)\n",
    "print(len(new_list_repeats3_filter))"
   ]
  },
  {
   "cell_type": "code",
   "execution_count": 19,
   "id": "cd773272",
   "metadata": {
    "scrolled": false
   },
   "outputs": [
    {
     "name": "stdout",
     "output_type": "stream",
     "text": [
      "37 CAAA UUUG 64\n",
      "32 AAUU AAUU 32\n",
      "28 UUAUAA UUAUAA 28\n",
      "25 ACUUU AAAGU 40\n",
      "24 UACUU AUUUC 33\n",
      "23 GUAC GUAC 23\n",
      "22 GGUA UCCC 44\n",
      "20 GGGG CCCC 46\n",
      "20 GGGG CCCC 45\n",
      "12 AAUC GAUU 62\n",
      "7 AUCAGAAUC GAUUCUGAU 56\n",
      "7 AUCA UGAU 55\n",
      "5 UUAU AUAA 30\n",
      "0 GGAGCUUA UUUGCUUC 64\n",
      "2 AGCU AGCU 2\n",
      "0 GGAG CUCC 15\n"
     ]
    }
   ],
   "source": [
    "for rep in new_list_repeats3_filter:\n",
    "    print(rep[0]-rep[2]+1,mi_rna[rep[0]-rep[2]+1:rep[0]+1],mi_rna[rep[1]:rep[1]+rep[2]],rep[1])"
   ]
  },
  {
   "cell_type": "markdown",
   "id": "85a4e267",
   "metadata": {},
   "source": [
    "**Aufgabe 3: RNA Sekundärstrukturen**\n",
    "\n",
    "Filtern die Überlappungsrepeats und die Repeats, deren Abstand zwischen seinen Abschnitten kleiner als 3 bp ist"
   ]
  },
  {
   "cell_type": "code",
   "execution_count": 20,
   "id": "51d4bbec",
   "metadata": {
    "scrolled": true
   },
   "outputs": [
    {
     "name": "stdout",
     "output_type": "stream",
     "text": [
      "[[40, 64, 4], [29, 40, 5], [25, 44, 4], [23, 46, 4], [23, 45, 4], [15, 62, 4], [15, 56, 9], [10, 55, 4], [8, 30, 4], [7, 64, 8], [3, 15, 4]]\n",
      "11\n"
     ]
    }
   ],
   "source": [
    "#Nicht überlappt Repeats und deren Abschnitt mind. 3 bp voneinander\n",
    "#Repeat: [stop1,start2,length]\n",
    "\n",
    "list_max_repeats = new_list_repeats3_filter.copy()\n",
    "min_gap = 3\n",
    "list_max_repeats_filter = [rep for rep in list_max_repeats if rep[1] > rep[0]+rep[2]-1 + min_gap]\n",
    "print(list_max_repeats_filter)\n",
    "print(len(list_max_repeats_filter))"
   ]
  },
  {
   "cell_type": "markdown",
   "id": "9c395397",
   "metadata": {},
   "source": [
    "Abstand zwischen zweier Abschnitten von den Repeats"
   ]
  },
  {
   "cell_type": "code",
   "execution_count": 21,
   "id": "c8d667ac",
   "metadata": {},
   "outputs": [
    {
     "name": "stdout",
     "output_type": "stream",
     "text": [
      "[23, 10, 18, 22, 21, 46, 40, 44, 21, 56, 11]\n",
      "11\n"
     ]
    }
   ],
   "source": [
    "#length = stop - start + 1 (bp)\n",
    "#gap = start2 - stop1 - 1\n",
    "    \n",
    "#Dictionary des Abstands jedes maximalen Repeatpaares in RNA\n",
    "list_gap_repeats = []\n",
    "\n",
    "for repeat in list_max_repeats_filter:\n",
    "    \n",
    "    gap_repeat = repeat[1] - repeat[0] - 1\n",
    "    list_gap_repeats.append(gap_repeat)\n",
    "        \n",
    "print(list_gap_repeats)\n",
    "print(len(list_gap_repeats))"
   ]
  },
  {
   "cell_type": "code",
   "execution_count": 26,
   "id": "2421af92",
   "metadata": {},
   "outputs": [
    {
     "name": "stdout",
     "output_type": "stream",
     "text": [
      "37 CAAA UUUG 64    abstand = 23\n",
      "25 ACUUU AAAGU 40    abstand = 10\n",
      "22 GGUA UCCC 44    abstand = 18\n",
      "20 GGGG CCCC 46    abstand = 22\n",
      "20 GGGG CCCC 45    abstand = 21\n",
      "12 AAUC GAUU 62    abstand = 46\n",
      "7 AUCAGAAUC GAUUCUGAU 56    abstand = 40\n",
      "7 AUCA UGAU 55    abstand = 44\n",
      "5 UUAU AUAA 30    abstand = 21\n",
      "0 GGAGCUUA UUUGCUUC 64    abstand = 56\n",
      "0 GGAG CUCC 15    abstand = 11\n"
     ]
    }
   ],
   "source": [
    "for rep in list_max_repeats_filter:\n",
    "    print(rep[0]-rep[2]+1,mi_rna[rep[0]-rep[2]+1:rep[0]+1],mi_rna[rep[1]:rep[1]+rep[2]],rep[1],\"   abstand =\",list_gap_repeats[list_max_repeats_filter.index(rep)])"
   ]
  },
  {
   "cell_type": "markdown",
   "id": "a670fc9c",
   "metadata": {},
   "source": [
    "Die Stems bzw. maximalen Repeats laut der RNAfold Webserver"
   ]
  },
  {
   "cell_type": "code",
   "execution_count": null,
   "id": "92f546d7",
   "metadata": {},
   "outputs": [],
   "source": [
    "#Repeat[stop1,start2,length]\n",
    "stem_struc_web = [[7,56,9],[20,46,4],[25,40,5]]"
   ]
  }
 ],
 "metadata": {
  "kernelspec": {
   "display_name": "Python 3 (ipykernel)",
   "language": "python",
   "name": "python3"
  },
  "language_info": {
   "codemirror_mode": {
    "name": "ipython",
    "version": 3
   },
   "file_extension": ".py",
   "mimetype": "text/x-python",
   "name": "python",
   "nbconvert_exporter": "python",
   "pygments_lexer": "ipython3",
   "version": "3.9.12"
  }
 },
 "nbformat": 4,
 "nbformat_minor": 5
}
