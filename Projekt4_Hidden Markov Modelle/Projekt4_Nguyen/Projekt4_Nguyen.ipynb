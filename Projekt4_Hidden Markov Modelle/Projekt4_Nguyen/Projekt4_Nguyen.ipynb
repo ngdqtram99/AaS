{
 "cells": [
  {
   "cell_type": "markdown",
   "id": "28eb8dca",
   "metadata": {},
   "source": [
    "# Projekt 4: Hidden Markov Modelle\n",
    "\n",
    "## Name: Dang Quynh Tram Nguyen\n",
    "\n",
    "### Matrikelnummer: 5311561"
   ]
  },
  {
   "cell_type": "markdown",
   "id": "a840aa71",
   "metadata": {},
   "source": [
    "**Aufgabe 1: Implementation der Viterbi-Algorithmus**"
   ]
  },
  {
   "cell_type": "markdown",
   "id": "ddc640b9",
   "metadata": {},
   "source": [
    "- Die Übergangswahrscheinlichkeiten (a) von Zustände und die Emissionswahrscheinlichkeiten (e) sind unten der Liste gespeichert.\n",
    "- Die Liste der Übergangswahrscheinlichkeiten von Zustände enthält auch den Startzustand. Mit m Zustände und einem Startzustand gibt es insgesamt m<sup>2</sup> + m Übergänge, weil jeder Zustand alle Übergänge zu anderen Zuständen und demselben hat, außer des Startzustand, der nur die Übergänge zu anderen Zustände hat. \n",
    "- a[0...m][0...m] (m Zustände und ein Startzustand)\n",
    "- e[1...m][1...x] (x Modelle)\n",
    "\n",
    "Methode Viterbi beschreibt Viterbi Algorithmus. Sie ergibt den wahrscheinlichsten Zustandspfad der vorgegebenen Sequenz"
   ]
  },
  {
   "cell_type": "code",
   "execution_count": 1,
   "id": "bc615e23",
   "metadata": {},
   "outputs": [],
   "source": [
    "import math\n",
    "def Viterbi(sequenz, a, e,zustand_symbol,zustand_name):\n",
    "    #e = Liste der Emissionswahrscheinlichkeiten\n",
    "    #a = Liste der Übergangswahrscheinlichkeiten\n",
    "    #zustand_symbol = Liste der Symbols der Zustände\n",
    "    #zustand_name = Liste der Namen der Zustände. Die Indexes entsprechen diejenigen in zustand_symbol\n",
    "    \n",
    "    m = len(a) #Anzahl der Zustände (auch Startzustand)\n",
    "    sequenz = \"s\"+sequenz #\"s\" ist Startzustand gemeint, alle andere Buchstaben sind in uppercase\n",
    "    n = len(sequenz) #Länge der Sequenz\n",
    "    \n",
    "    matrix = [[0 for i in range(n)] for j in range(m)] #Matrix\n",
    "    \n",
    "    matrix[0][0] = 1 #Wahrsch. für Startzustand ist log(1) = 0\n",
    "    for i in range(1,m):\n",
    "        matrix[i][0] = 0 #keine anderer Zustand ist Startzustand\n",
    "    for symbol in range(1,n):\n",
    "        for zustand in range(1,m):\n",
    "            if(zustand_symbol[zustand-1] != sequenz[symbol]): #wenn Zustand dem Symbol nicht passt\n",
    "                matrix[zustand][symbol] = 0\n",
    "            elif symbol == 1:\n",
    "                matrix[zustand][symbol] = a[0][zustand] * max(e[zustand-1])\n",
    "                #a[zustand-1] -> zustand-1 = Startzustand\n",
    "                #e[zustand-1] -> zustand-1 = Index des entsprechenden Zustands in Emissionswahr.-Liste, weil diese Liste keine Startzustand enthält\n",
    "            else:\n",
    "                max_wahr = 0\n",
    "                for vorzustand in range(1,m):\n",
    "                    if matrix[vorzustand][symbol-1] == 0: continue\n",
    "                    else:\n",
    "                        wahr = a[vorzustand][zustand] * matrix[vorzustand][symbol-1]\n",
    "                        max_wahr = max(wahr,max_wahr)\n",
    "                matrix[zustand][symbol] = max_wahr * max(e[zustand-1])\n",
    "            #e[zustand] ist eine Liste, die die Emissionswahrscheinlichkeit der Zustand mit viel 0 enthält. Deswegen entspricht das Maximum die Emisssionswahrscheinlichkeit.\n",
    "\n",
    "    traceback = [0 for i in range(n)] #Liste der Indexes der beste Zustände jedes Symbols\n",
    "    for i in range(1,n):\n",
    "        traceback[i] = zustand_name[find_max(m,i,matrix)-1]\n",
    "    traceback.remove(0)\n",
    "    #Check\n",
    "    print(\"Matrix\")\n",
    "    for i in matrix:\n",
    "        if(matrix.index(i)==0): print(\"s\",i)\n",
    "        else: print(zustand_name[matrix.index(i)-1],i)\n",
    "   \n",
    "    return traceback"
   ]
  },
  {
   "cell_type": "code",
   "execution_count": 2,
   "id": "c9a48429",
   "metadata": {},
   "outputs": [],
   "source": [
    "import math\n",
    "def Viterbi_log(sequenz, a, e,zustand_symbol,zustand_name):\n",
    "    #e = Liste der Emissionswahrscheinlichkeiten\n",
    "    #a = Liste der Übergangswahrscheinlichkeiten\n",
    "    #zustand_symbol = Liste der Symbols der Zustände\n",
    "    #zustand_name = Liste der Namen der Zustände. Die Indexes entsprechen diejenigen in zustand_symbol\n",
    "    \n",
    "    m = len(a) #Anzahl der Zustände (auch Startzustand)\n",
    "    sequenz = \"s\"+sequenz #\"s\" ist Startzustand gemeint, alle andere Buchstaben sind in uppercase\n",
    "    n = len(sequenz) #Länge der Sequenz\n",
    "    \n",
    "    matrix = [[-math.inf for i in range(n)] for j in range(m)] #Matrix\n",
    "    \n",
    "    matrix[0][0] = 0 #Wahrsch. für Startzustand ist log(1) = 0\n",
    "    for i in range(1,m):\n",
    "        matrix[i][0] = -math.inf #keine anderer Zustand ist Startzustand\n",
    "    for symbol in range(1,n):\n",
    "        for zustand in range(1,m):\n",
    "            if(zustand_symbol[zustand-1] != sequenz[symbol]): #wenn Zustand dem Symbol nicht passt\n",
    "                matrix[zustand][symbol] = -math.inf\n",
    "            elif symbol == 1:\n",
    "                matrix[zustand][symbol] = math.log10(a[0][zustand] * max(e[zustand-1])) \n",
    "                #a[zustand-1] -> zustand-1 = Startzustand\n",
    "                #e[zustand-1] -> zustand-1 = Index des entsprechenden Zustands in Emissionswahr.-Liste, weil diese Liste keine Startzustand enthält\n",
    "            else:\n",
    "                max_wahr = -math.inf\n",
    "                for vorzustand in range(1,m):\n",
    "                    if matrix[vorzustand][symbol-1] == -math.inf: continue\n",
    "                    else:\n",
    "                        wahr = math.log10(a[vorzustand][zustand]) + matrix[vorzustand][symbol-1]\n",
    "                        max_wahr = max(wahr,max_wahr)\n",
    "                matrix[zustand][symbol] = max_wahr + math.log10(max(e[zustand-1]))\n",
    "            #e[zustand] ist eine Liste, die die Emissionswahrscheinlichkeit der Zustand mit viel 0 enthält. Deswegen entspricht das Maximum die Emisssionswahrscheinlichkeit.\n",
    "\n",
    "    traceback = [0 for i in range(n)] #Liste der Indexes der beste Zustände jedes Symbols\n",
    "    for i in range(1,n):\n",
    "        traceback[i] = zustand_name[find_max(m,i,matrix)-1]\n",
    "    traceback.remove(0)\n",
    "    #Check\n",
    "    import pandas as pd\n",
    "    if (n <= 11):\n",
    "        print(\"Matrix\")\n",
    "        for i in matrix:\n",
    "            if(matrix.index(i)==0): print(\"s\",i)\n",
    "            else: print(zustand_name[matrix.index(i)-1],i)\n",
    "        print(pd.DataFrame(matrix))\n",
    "    return traceback"
   ]
  },
  {
   "cell_type": "markdown",
   "id": "f1016153",
   "metadata": {},
   "source": [
    "Methode gibt den Index der maximalen Wahrscheinlichkeit an einem Symbol der Sequenz zurück"
   ]
  },
  {
   "cell_type": "code",
   "execution_count": 3,
   "id": "c9a55fc8",
   "metadata": {},
   "outputs": [],
   "source": [
    "def find_max(zustand,symbol,matrix):\n",
    "    #zustand = Anzahl der Zustände\n",
    "    #symbol = Index der Symbol in der Sequenz\n",
    "    # matrix vom Viterbi-Algorithmus\n",
    "    \n",
    "    m = 1\n",
    "    for z in range(2,zustand):\n",
    "        if (matrix[z][symbol]>matrix[m][symbol]): \n",
    "            m=z\n",
    "    return m"
   ]
  },
  {
   "cell_type": "markdown",
   "id": "5a7f306e",
   "metadata": {},
   "source": [
    "**Aufgabe 2: Sequenzen generieren**"
   ]
  },
  {
   "cell_type": "markdown",
   "id": "252275f8",
   "metadata": {},
   "source": [
    "Listen der Namen der Zuständen (ihre Namen sowie die Symbols entsprechenden)\n",
    "- Modell (+) beschreibt die Basen der CpG-Inseln\n",
    "- Modell (-) beschreibt die Basen der sonstigen DNA"
   ]
  },
  {
   "cell_type": "code",
   "execution_count": 4,
   "id": "988e43d5",
   "metadata": {},
   "outputs": [
    {
     "data": {
      "text/plain": [
       "['A-', 'T-', 'G-', 'C-', 'A+', 'T+', 'G+', 'C+']"
      ]
     },
     "execution_count": 4,
     "metadata": {},
     "output_type": "execute_result"
    }
   ],
   "source": [
    "zustand_symbol = [\"A\",\"T\",\"G\",\"C\",\"A\",\"T\",\"G\",\"C\"] #Buchstaben sollten ähnlich wie der Symbols\n",
    "#4 ersten Buchstaben gehören zum Modell (-), 4 letzten zum Modell (+)\n",
    "zustand_name = [\"A-\",\"T-\",\"G-\",\"C-\",\"A+\",\"T+\",\"G+\",\"C+\"]\n",
    "zustand_name"
   ]
  },
  {
   "cell_type": "markdown",
   "id": "445124b0",
   "metadata": {},
   "source": [
    "Liste der Übergangswahrscheinlichkeiten"
   ]
  },
  {
   "cell_type": "code",
   "execution_count": 5,
   "id": "572b0890",
   "metadata": {},
   "outputs": [
    {
     "data": {
      "text/plain": [
       "[[0, 0.5, 0.5, 0.5, 0.5, 0.5, 0.5, 0.5, 0.5],\n",
       " [0, 0.98, 0.98, 0.98, 0.98, 0.02, 0.02, 0.02, 0.02],\n",
       " [0, 0.98, 0.98, 0.98, 0.98, 0.02, 0.02, 0.02, 0.02],\n",
       " [0, 0.98, 0.98, 0.98, 0.98, 0.02, 0.02, 0.02, 0.02],\n",
       " [0, 0.98, 0.98, 0.98, 0.98, 0.02, 0.02, 0.02, 0.02],\n",
       " [0, 0.1, 0.1, 0.1, 0.1, 0.9, 0.9, 0.9, 0.9],\n",
       " [0, 0.1, 0.1, 0.1, 0.1, 0.9, 0.9, 0.9, 0.9],\n",
       " [0, 0.1, 0.1, 0.1, 0.1, 0.9, 0.9, 0.9, 0.9],\n",
       " [0, 0.1, 0.1, 0.1, 0.1, 0.9, 0.9, 0.9, 0.9]]"
      ]
     },
     "execution_count": 5,
     "metadata": {},
     "output_type": "execute_result"
    }
   ],
   "source": [
    "a = [[0 for i in range(9)] for j in range(9)]\n",
    "for i in range(1,9):\n",
    "    a[0][i] = 0.5\n",
    "    \n",
    "#Modell (-) zu demselben und zu anderem\n",
    "for i in range(1,5):\n",
    "    for j in range(1,5):\n",
    "        a[i][j] = 0.98 # (hier wird später geändert)\n",
    "    for k in range(5,9):\n",
    "        a[i][k] = 0.02 # (hier wird später geändert)\n",
    "\n",
    "#Modell (+) zu demselben und zu anderem\n",
    "for i in range(5,9):\n",
    "    for j in range(5,9):\n",
    "        a[i][j] = 0.9\n",
    "    for k in range(1,5):\n",
    "        a[i][k] = 0.1\n",
    "\n",
    "a"
   ]
  },
  {
   "cell_type": "markdown",
   "id": "d9ecea1e",
   "metadata": {},
   "source": [
    "Liste der Emissionswahrscheinlichkeiten"
   ]
  },
  {
   "cell_type": "code",
   "execution_count": 6,
   "id": "2aa4f923",
   "metadata": {},
   "outputs": [
    {
     "data": {
      "text/plain": [
       "[[0.25, 0],\n",
       " [0.25, 0],\n",
       " [0.25, 0],\n",
       " [0.25, 0],\n",
       " [0, 0.125],\n",
       " [0, 0.125],\n",
       " [0, 0.375],\n",
       " [0, 0.375]]"
      ]
     },
     "execution_count": 6,
     "metadata": {},
     "output_type": "execute_result"
    }
   ],
   "source": [
    "e = [[0 for i in range(2)] for j in range(8)]\n",
    "#erste Spalte ist Modell(-), zweite ist Modell (+)\n",
    "for i in range(0,4):\n",
    "    e[i][0] = 0.25\n",
    "for i in range(4,8):\n",
    "    if i<=5: e[i][1] = 0.125\n",
    "    else: e[i][1] = 0.375\n",
    "e"
   ]
  },
  {
   "cell_type": "markdown",
   "id": "3af47252",
   "metadata": {},
   "source": [
    "Methode erzeugt eine zufällige Symbolsequenz und ihren Pfad aus der vorgegeben Emissionswahrscheinlichkeiten in den Modelle sowie der Übergangswahrscheinlichkeiten zwischen den Zuständen"
   ]
  },
  {
   "cell_type": "code",
   "execution_count": 7,
   "id": "0c69fcd4",
   "metadata": {},
   "outputs": [],
   "source": [
    "import random as rd\n",
    "def erstellen(zustand_symbol,zustand_name,a,e,l):\n",
    "    #l = Länge der erzeugten Sequenz\n",
    "    \n",
    "    sseq = \"\" #Symbolsequenz\n",
    "    pfad = [] #Pfad / Zustandsequenz\n",
    "    m = 0\n",
    "    for i in range (l):\n",
    "        r = rd.random() #Zufälliger Wert liegt zwischen 0 bis 1\n",
    "        zustand = len(zustand_symbol) \n",
    "        \n",
    "        if(i==0):\n",
    "            if r <= 0.5: \n",
    "                zustand = modell_neg()\n",
    "                m = -1\n",
    "            else:\n",
    "                zustand = modell_pos()\n",
    "                m = 1\n",
    "                \n",
    "        elif m==-1: # Modell (-)\n",
    "            if r<= 0.02: # (hier wird später geändert)\n",
    "                zustand = modell_pos()\n",
    "                m = 1\n",
    "            else: zustand = modell_neg()\n",
    "        elif m==1: # Modell (+)\n",
    "            if r<= 0.1:\n",
    "                zustand = modell_neg()\n",
    "                m = -1\n",
    "            else: zustand = modell_pos()\n",
    "        \n",
    "        assert zustand < len(zustand_symbol) and zustand >= 0, \"Out of index of list zustand_symbol und zustand_name.\"\n",
    "        sseq += zustand_symbol[zustand]\n",
    "        pfad.append(zustand_name[zustand])   \n",
    "            \n",
    "    return [sseq, pfad]"
   ]
  },
  {
   "cell_type": "markdown",
   "id": "680f8dfb",
   "metadata": {},
   "source": [
    "Methoden geben den Index in der Liste zustand_symbol sowie zustand_name zurück"
   ]
  },
  {
   "cell_type": "code",
   "execution_count": 8,
   "id": "908debd3",
   "metadata": {},
   "outputs": [],
   "source": [
    "def modell_neg():\n",
    "    r = rd.random()\n",
    "    if r <= 0.25: return 0 # A-\n",
    "    elif r>0.25 and r<=0.5: return 1 # T-\n",
    "    elif r>0.5 and r<=0.75: return 2 # G-\n",
    "    else: return 3 # C-"
   ]
  },
  {
   "cell_type": "code",
   "execution_count": 9,
   "id": "4832fe73",
   "metadata": {},
   "outputs": [],
   "source": [
    "def modell_pos():\n",
    "    r = rd.random()\n",
    "    if r <= 0.125: return 4 # A+\n",
    "    elif r>0.125 and r<=0.25: return 5 # T+\n",
    "    elif r>0.25 and r<=0.625: return 6 # G+\n",
    "    else: return 7 # C+"
   ]
  },
  {
   "cell_type": "markdown",
   "id": "5319c00e",
   "metadata": {},
   "source": [
    "Ein Beispiel, die oben geschriebenen Methoden durchzuführen"
   ]
  },
  {
   "cell_type": "code",
   "execution_count": 10,
   "id": "1c52cf76",
   "metadata": {},
   "outputs": [
    {
     "data": {
      "text/plain": [
       "['CCGCCTC', ['C+', 'C+', 'G+', 'C+', 'C+', 'T+', 'C+']]"
      ]
     },
     "execution_count": 10,
     "metadata": {},
     "output_type": "execute_result"
    }
   ],
   "source": [
    "neu = erstellen(zustand_symbol,zustand_name,a,e,7)\n",
    "neu"
   ]
  },
  {
   "cell_type": "code",
   "execution_count": 11,
   "id": "59ffc04d",
   "metadata": {},
   "outputs": [
    {
     "name": "stdout",
     "output_type": "stream",
     "text": [
      "Matrix\n",
      "s [1, 0, 0, 0, 0, 0, 0, 0]\n",
      "A- [0, 0, 0, 0, 0, 0, 0, 0]\n",
      "T- [0, 0, 0, 0, 0, 0, 0.00011034189414062498, 0]\n",
      "G- [0, 0, 0, 0.007503124999999999, 0, 0, 0, 0]\n",
      "C- [0, 0.125, 0.030625, 0, 0.0018382656249999998, 0.00045037507812499994, 0, 2.703376406445312e-05]\n",
      "A- [0, 0, 0, 0, 0, 0, 0, 0]\n",
      "T+ [0, 0, 0, 0, 0, 0, 0.00027368368148803716, 0]\n",
      "G+ [0, 0, 0, 0.021357421875000004, 0, 0, 0, 0]\n",
      "C+ [0, 0.1875, 0.06328125000000001, 0, 0.007208129882812501, 0.002432743835449219, 0, 9.236824250221255e-05]\n"
     ]
    },
    {
     "data": {
      "text/plain": [
       "['C+', 'C+', 'G+', 'C+', 'C+', 'T+', 'C+']"
      ]
     },
     "execution_count": 11,
     "metadata": {},
     "output_type": "execute_result"
    }
   ],
   "source": [
    "viterbi_pfad = Viterbi(neu[0],a,e,zustand_symbol,zustand_name)\n",
    "viterbi_pfad"
   ]
  },
  {
   "cell_type": "code",
   "execution_count": 12,
   "id": "75097e01",
   "metadata": {
    "scrolled": true
   },
   "outputs": [
    {
     "name": "stdout",
     "output_type": "stream",
     "text": [
      "Matrix\n",
      "s [0, -inf, -inf, -inf, -inf, -inf, -inf, -inf]\n",
      "A- [-inf, -inf, -inf, -inf, -inf, -inf, -inf, -inf]\n",
      "T- [-inf, -inf, -inf, -inf, -inf, -inf, -3.957259565169282, -inf]\n",
      "G- [-inf, -inf, -inf, -2.1247578182628786, -inf, -inf, -inf, -inf]\n",
      "C- [-inf, -0.9030899869919435, -1.5139239026274112, -inf, -2.7355917338983464, -3.3464256495338143, -inf, -4.56809348080475]\n",
      "A- [-inf, -inf, -inf, -inf, -inf, -inf, -inf, -inf]\n",
      "T+ [-inf, -inf, -inf, -inf, -inf, -inf, -3.5627510968207066, -inf]\n",
      "G+ [-inf, -inf, -inf, -1.6704511736021748, -inf, -inf, -inf, -inf]\n",
      "C+ [-inf, -0.7269987279362623, -1.1987249507692186, -inf, -2.142177396435131, -2.6139036192680876, -inf, -4.0344773196536625]\n",
      "     0         1         2         3         4         5         6         7\n",
      "0  0.0      -inf      -inf      -inf      -inf      -inf      -inf      -inf\n",
      "1 -inf      -inf      -inf      -inf      -inf      -inf      -inf      -inf\n",
      "2 -inf      -inf      -inf      -inf      -inf      -inf -3.957260      -inf\n",
      "3 -inf      -inf      -inf -2.124758      -inf      -inf      -inf      -inf\n",
      "4 -inf -0.903090 -1.513924      -inf -2.735592 -3.346426      -inf -4.568093\n",
      "5 -inf      -inf      -inf      -inf      -inf      -inf      -inf      -inf\n",
      "6 -inf      -inf      -inf      -inf      -inf      -inf -3.562751      -inf\n",
      "7 -inf      -inf      -inf -1.670451      -inf      -inf      -inf      -inf\n",
      "8 -inf -0.726999 -1.198725      -inf -2.142177 -2.613904      -inf -4.034477\n"
     ]
    },
    {
     "data": {
      "text/plain": [
       "['C+', 'C+', 'G+', 'C+', 'C+', 'T+', 'C+']"
      ]
     },
     "execution_count": 12,
     "metadata": {},
     "output_type": "execute_result"
    }
   ],
   "source": [
    "viterbi_pfad2 = Viterbi_log(neu[0],a,e,zustand_symbol,zustand_name)\n",
    "viterbi_pfad2"
   ]
  },
  {
   "cell_type": "code",
   "execution_count": null,
   "id": "9db8f5c9",
   "metadata": {},
   "outputs": [],
   "source": []
  },
  {
   "cell_type": "markdown",
   "id": "250f130a",
   "metadata": {},
   "source": [
    "**Aufgabe 3: Viterbi-Algorithmus testen**"
   ]
  },
  {
   "cell_type": "markdown",
   "id": "6e1d9c9d",
   "metadata": {},
   "source": [
    "T = True, F = False\n",
    "\n",
    "P = Positiv, N = Negativ\n",
    "\n",
    "Modell\\Ground truth|+|-\n",
    "-:|-|-\n",
    "+|TP|FP\n",
    "-|FN|TN"
   ]
  },
  {
   "cell_type": "markdown",
   "id": "258c1b59",
   "metadata": {},
   "source": [
    "Methode erzeugt ein Dictionary von TP, FP, FN und TN des vorhergesagten Modell (mithilfe der Viterbi-Algorithmus) im Vergleich zu des realen Pfad"
   ]
  },
  {
   "cell_type": "code",
   "execution_count": 13,
   "id": "efeb40b8",
   "metadata": {},
   "outputs": [],
   "source": [
    "def dictionary(modell,pfad):\n",
    "    assert len(modell) == len(pfad), \"die Längen zweier Sequenz sollten gleich sein.\"\n",
    "    dic = {\"TP\":0, \"FP\":0, \"TN\":0, \"FN\":0}\n",
    "    for zustand in range(len(modell)):\n",
    "        assert modell[zustand][0] == pfad[zustand][0], \"Methode Viterbi ist fehlerhaft.\"\n",
    "        m = modell[zustand][1] #Modell des Zustandes des vorhergesagten Modells\n",
    "        p = pfad[zustand][1] # Modell des Zustandes des realen Pfad\n",
    "        assert m == \"+\" or m == \"-\", \"Es passt keinem Modell\"\n",
    "        if m == \"+\":\n",
    "            if p == \"+\": dic[\"TP\"] +=1\n",
    "            else: dic[\"FP\"] +=1\n",
    "        if m == \"-\":\n",
    "            if p == \"+\": dic[\"FN\"] +=1\n",
    "            else: dic[\"TN\"] +=1\n",
    "    return dic"
   ]
  },
  {
   "cell_type": "markdown",
   "id": "f02a2e33",
   "metadata": {},
   "source": [
    "- Sensitivität beschreibt die Wahrscheinlichkeit, dass die positiven Zustände, die CpG-Inseln aufweisen, relativ zu deren tatsächlichen Anzahl in einer Sequenz vorhergesagt werden.\n",
    "\n",
    "Sensitivität = $\\frac{TP}{TP + FN}$\n",
    "\n",
    "- Spezifität beschreibt die Wahrscheinlichkeit, dass die negativen Zustände, die sontige DNA aufweisen, relativ zu deren tatsächlichen Anzahl in einer Sequenz vorhergesagt werden.\n",
    "\n",
    "Spezifität = $\\frac{TN}{TN + FP}$\n",
    "\n",
    "Testen 1000 Sequenzen mit Länge 1000 bp"
   ]
  },
  {
   "cell_type": "code",
   "execution_count": 14,
   "id": "c6738c43",
   "metadata": {},
   "outputs": [
    {
     "name": "stdout",
     "output_type": "stream",
     "text": [
      "sensi [0.13636363636363635, 0.10144927536231885, 0.03018867924528302, 0.12994350282485875, 0.0411522633744856, 0.12871287128712872, 0.12562814070351758, 0.0297029702970297, 0.30434782608695654, 0.03482587064676617, 0.046153846153846156, 0.11, 0.02531645569620253, 0.09392265193370165, 0.2681564245810056, 0.09223300970873786, 0.06787330316742081, 0, 0.027777777777777776]\n",
      "spezi [1.0, 0.9810844892812106, 0.9945578231292517, 0.9793438639125152, 0.9947159841479525, 0.981203007518797, 0.9762796504369539, 0.993734335839599, 0.9546568627450981, 0.9962453066332916, 0.996551724137931, 0.9777777777777777, 0.9893111638954869, 0.9914529914529915, 0.9792935444579781, 0.9458438287153652, 0.9871630295250321, 0.9912758996728462, 0.985969387755102]\n"
     ]
    }
   ],
   "source": [
    "count = 1000\n",
    "sensitivitaet = []\n",
    "spezifizitaet = []\n",
    "while(count>0):\n",
    "    \n",
    "    seq = erstellen(zustand_symbol,zustand_name,a,e,1000)\n",
    "    sseq = seq[0]\n",
    "    #print(\"Sequenz\",count,\":\",sseq)\n",
    "    pfad = seq[1]\n",
    "    #print(\"Pfad\",pfad)\n",
    "    \n",
    "    modell = Viterbi_log(sseq,a,e,zustand_symbol,zustand_name)\n",
    "    #print(\"Modell\",modell)\n",
    "    d = dictionary(modell,pfad)\n",
    "    #print(d)\n",
    "    if(d[\"TP\"] == 0): sensi = 0\n",
    "    else: sensi = d[\"TP\"] / (d[\"TP\"] + d[\"FN\"])\n",
    "    sensitivitaet.append(sensi)\n",
    "    \n",
    "    if(d[\"TN\"] == 0): spezi = 0\n",
    "    else: spezi = d[\"TN\"] / (d[\"TN\"] + d[\"FP\"])\n",
    "    spezifizitaet.append(spezi)\n",
    "    count -= 1\n",
    "print(\"sensi\",sensitivitaet[1:20])\n",
    "print(\"spezi\",spezifizitaet[1:20])"
   ]
  },
  {
   "cell_type": "markdown",
   "id": "5fa8d8b1",
   "metadata": {},
   "source": [
    "Boxplot"
   ]
  },
  {
   "cell_type": "code",
   "execution_count": 15,
   "id": "4e15902c",
   "metadata": {},
   "outputs": [
    {
     "name": "stderr",
     "output_type": "stream",
     "text": [
      "C:\\Users\\quynh\\AppData\\Local\\Temp\\ipykernel_12116\\1705630701.py:4: UserWarning: FixedFormatter should only be used together with FixedLocator\n",
      "  ax.set_yticklabels(['Sensitivität','Spezifität'])\n"
     ]
    },
    {
     "data": {
      "image/png": "[encoded data removed]",
      "text/plain": [
       "<Figure size 1000x700 with 1 Axes>"
      ]
     },
     "metadata": {},
     "output_type": "display_data"
    }
   ],
   "source": [
    "import matplotlib.pyplot as plt\n",
    "fig = plt.figure(figsize =(10, 7))\n",
    "ax = fig.add_subplot(111)\n",
    "ax.set_yticklabels(['Sensitivität','Spezifität'])\n",
    "plt.boxplot([sensitivitaet,spezifizitaet],vert = 0)\n",
    "plt.show()"
   ]
  },
  {
   "cell_type": "markdown",
   "id": "eea9f567",
   "metadata": {},
   "source": [
    "In der Grafik kann man sehen, dass die Wahrscheinlichkeiten des positiven Modells (CpG-Inseln) sehr niedrig (Median < 0,1) sind, das Minimum 0 erreicht. Das heißt, dass das Modell der CpG-Inseln mit angegebenen Daten selten in den Zufallssequenzen auftrat sowie durch Viterbi-Algorithmus erkannt wird. Hingegen ist mehrere negativen Zustände von sonstiger DNA gefunden. Die höchsten Wahrscheinlichkeiten steigen mehrmals auf 1.0.\n",
    "\n",
    "Die hohen Wahrscheinlichkeiten bei der Spezifität bedeutet, dass die Vorhersage das negative Modell der sonstigen DNA sehr gut erkennen kann. Im Gegensatz dazu ist das Ergebnis sehr schlecht bei den positiven Zuständen. Sie wird meistens als die negativen prognostiziert. Dies wirkt sich auf die Untersuchung der CpG-Inseln in der Sequenzen, da eine große Menge der CpG-Inseln absichtslos verpasst wird. \n",
    "\n",
    "Dieses Ergebnis folgt die niedrige Übergangswahrscheinlichkeit vom Modell (-) zum Modell (+) (0.02). Das heißt, wenn ein Symbol in der Sequenz einen negativen Zustand aufweist, wird das nächste Symbol meistens auch einen negativen vorhergesagt.\n",
    "\n",
    "**Aufgabe 4: Modell anpassen** \n",
    "\n",
    "Um die Wahrscheinlichkeiten der Sensitivität zu erhöhen, sollte die obengenannte Übergangswahrscheinlichkeit erhöht werden. Je höher die Wahrscheinlichkeit vom negativen zum positiven Modell ist, desto höher ist die Sensitivität. \n",
    "\n",
    "Die Übergangswahrscheinlichkeit vom negativen zum positiven Modell wird beispielsweise auf 0.6 gesteigert.\n",
    "\n",
    "Neue Liste der Übergangswahrscheinlichkeiten"
   ]
  },
  {
   "cell_type": "code",
   "execution_count": 16,
   "id": "7ef0d2fc",
   "metadata": {},
   "outputs": [
    {
     "data": {
      "text/plain": [
       "[[0, 0.5, 0.5, 0.5, 0.5, 0.5, 0.5, 0.5, 0.5],\n",
       " [0, 0.4, 0.4, 0.4, 0.4, 0.6, 0.6, 0.6, 0.6],\n",
       " [0, 0.4, 0.4, 0.4, 0.4, 0.6, 0.6, 0.6, 0.6],\n",
       " [0, 0.4, 0.4, 0.4, 0.4, 0.6, 0.6, 0.6, 0.6],\n",
       " [0, 0.4, 0.4, 0.4, 0.4, 0.6, 0.6, 0.6, 0.6],\n",
       " [0, 0.1, 0.1, 0.1, 0.1, 0.9, 0.9, 0.9, 0.9],\n",
       " [0, 0.1, 0.1, 0.1, 0.1, 0.9, 0.9, 0.9, 0.9],\n",
       " [0, 0.1, 0.1, 0.1, 0.1, 0.9, 0.9, 0.9, 0.9],\n",
       " [0, 0.1, 0.1, 0.1, 0.1, 0.9, 0.9, 0.9, 0.9]]"
      ]
     },
     "execution_count": 16,
     "metadata": {},
     "output_type": "execute_result"
    }
   ],
   "source": [
    "a_change = [[0 for i in range(9)] for j in range(9)]\n",
    "for i in range(1,9):\n",
    "    a_change[0][i] = 0.5\n",
    "    \n",
    "#Modell (-) zu demselben und zu anderem\n",
    "for i in range(1,5):\n",
    "    for j in range(1,5):\n",
    "        a_change[i][j] = 0.4 # (hier wird später geändert)\n",
    "    for k in range(5,9):\n",
    "        a_change[i][k] = 0.6 # (hier wird später geändert)\n",
    "\n",
    "#Modell (+) zu demselben und zu anderem\n",
    "for i in range(5,9):\n",
    "    for j in range(5,9):\n",
    "        a_change[i][j] = 0.9\n",
    "    for k in range(1,5):\n",
    "        a_change[i][k] = 0.1\n",
    "\n",
    "a_change"
   ]
  },
  {
   "cell_type": "markdown",
   "id": "9531e520",
   "metadata": {},
   "source": [
    "Neue Methode zur Erzeugung der Zufallssequenz"
   ]
  },
  {
   "cell_type": "code",
   "execution_count": 17,
   "id": "d36d5723",
   "metadata": {},
   "outputs": [],
   "source": [
    "import random as rd\n",
    "def erstellen_change(zustand_symbol,zustand_name,a,e,l):\n",
    "    #l = Länge der erzeugten Sequenz\n",
    "    \n",
    "    sseq = \"\" #Symbolsequenz\n",
    "    pfad = [] #Pfad / Zustandsequenz\n",
    "    m = 0\n",
    "    for i in range (l):\n",
    "        r = rd.random() #Zufälliger Wert liegt zwischen 0 bis 1\n",
    "        zustand = len(zustand_symbol) \n",
    "        \n",
    "        if(i==0):\n",
    "            if r <= 0.5: \n",
    "                zustand = modell_neg()\n",
    "                m = -1\n",
    "            else:\n",
    "                zustand = modell_pos()\n",
    "                m = 1\n",
    "                \n",
    "        elif m==-1: # Modell (-)\n",
    "            if r<= 0.6: # (hier wird später geändert)\n",
    "                zustand = modell_pos()\n",
    "                m = 1\n",
    "            else: zustand = modell_neg()\n",
    "        elif m==1: # Modell (+)\n",
    "            if r<= 0.1:\n",
    "                zustand = modell_neg()\n",
    "                m = -1\n",
    "            else: zustand = modell_pos()\n",
    "        \n",
    "        assert zustand < len(zustand_symbol) and zustand >= 0, \"Out of index of list zustand_symbol und zustand_name.\"\n",
    "        sseq += zustand_symbol[zustand]\n",
    "        pfad.append(zustand_name[zustand])   \n",
    "            \n",
    "    return [sseq, pfad]"
   ]
  },
  {
   "cell_type": "markdown",
   "id": "06085036",
   "metadata": {},
   "source": [
    "Neuer Test mit 1000 Sequenzen mit Länge 1000 bp"
   ]
  },
  {
   "cell_type": "code",
   "execution_count": 18,
   "id": "b94c440c",
   "metadata": {},
   "outputs": [
    {
     "name": "stdout",
     "output_type": "stream",
     "text": [
      "sensi [0.5538641686182669, 0.4413472706155633, 0.477803738317757, 0.45274212368728123, 0.30363423212192264, 0.4302600472813239, 0.4892086330935252, 0.1993047508690614, 0.4179640718562874, 0.44982698961937717, 0.3955399061032864, 0.5946882217090069, 0.6601382488479263, 0.3981797497155859, 0.3352941176470588, 0.46875, 0.2191142191142191, 0.5401376146788991, 0.4083333333333333]\n",
      "spezi [0.5753424657534246, 0.5971223021582733, 0.5347222222222222, 0.5874125874125874, 0.7551020408163265, 0.6363636363636364, 0.5783132530120482, 0.8321167883211679, 0.6363636363636364, 0.6992481203007519, 0.6621621621621622, 0.5298507462686567, 0.4015151515151515, 0.5289256198347108, 0.6533333333333333, 0.5416666666666666, 0.7816901408450704, 0.5234375, 0.65]\n"
     ]
    }
   ],
   "source": [
    "count = 1000\n",
    "sensitivitaet_change = []\n",
    "spezifizitaet_change = []\n",
    "while(count>0):\n",
    "    seq = erstellen_change(zustand_symbol,zustand_name,a,e,1000)\n",
    "    pfad = seq[1]\n",
    "    #print(\"pfad\",pfad)\n",
    "    sseq = seq[0]\n",
    "    \n",
    "    modell = Viterbi_log(sseq,a,e,zustand_symbol,zustand_name)\n",
    "    #print(\"modell\",modell)\n",
    "    d = dictionary(modell,pfad)\n",
    "    #print(d)\n",
    "    if(d[\"TP\"] == 0): sensi = 0\n",
    "    else: sensi = d[\"TP\"] / (d[\"TP\"] + d[\"FN\"])\n",
    "    sensitivitaet_change.append(sensi)\n",
    "    \n",
    "    if(d[\"TN\"] == 0): spezi = 0\n",
    "    else: spezi = d[\"TN\"] / (d[\"TN\"] + d[\"FP\"])\n",
    "    spezifizitaet_change.append(spezi)\n",
    "    count -= 1\n",
    "print(\"sensi\",sensitivitaet_change[1:20])\n",
    "print(\"spezi\",spezifizitaet_change[1:20])"
   ]
  },
  {
   "cell_type": "code",
   "execution_count": 19,
   "id": "cd2bb730",
   "metadata": {},
   "outputs": [
    {
     "name": "stderr",
     "output_type": "stream",
     "text": [
      "C:\\Users\\quynh\\AppData\\Local\\Temp\\ipykernel_12116\\2642689908.py:4: UserWarning: FixedFormatter should only be used together with FixedLocator\n",
      "  ax.set_yticklabels(['Sensitivität','Spezifität'])\n"
     ]
    },
    {
     "data": {
      "image/png": "[encoded data removed]",
      "text/plain": [
       "<Figure size 1000x700 with 1 Axes>"
      ]
     },
     "metadata": {},
     "output_type": "display_data"
    }
   ],
   "source": [
    "import matplotlib.pyplot as plt\n",
    "fig = plt.figure(figsize =(10, 7))\n",
    "ax = fig.add_subplot(111)\n",
    "ax.set_yticklabels(['Sensitivität','Spezifität'])\n",
    "plt.boxplot([sensitivitaet_change,spezifizitaet_change],vert = 0)\n",
    "plt.show()"
   ]
  },
  {
   "cell_type": "markdown",
   "id": "d5b2cd12",
   "metadata": {},
   "source": [
    "Neue Modelle \n",
    "- Übergangswahrscheinlichkeiten\n",
    "\n",
    "Startzustand B, Modell (-) und Modell (+)\n",
    "\n",
    "Modell| -| +\n",
    "-|-|-\n",
    "B| 0.3 | 0.7\n",
    "-|0.6 | 0.4\n",
    "+|0.1 | 0.9\n",
    "\n",
    "- Emissionswahrscheinlichkeiten\n",
    "\n",
    "Modell (-)\n",
    "\n",
    "Symbol | Wahrscheinlichkeit\n",
    "-|-\n",
    "A|0.25\n",
    "T|0.25\n",
    "G|0.25\n",
    "C|0.25\n",
    "\n",
    "Modell (+)\n",
    "\n",
    "Symbol | Wahrscheinlichkeit\n",
    "-|-\n",
    "A|0.125\n",
    "T|0.125\n",
    "G|0.375\n",
    "C|0.375\n",
    "\n"
   ]
  }
 ],
 "metadata": {
  "kernelspec": {
   "display_name": "Python 3 (ipykernel)",
   "language": "python",
   "name": "python3"
  },
  "language_info": {
   "codemirror_mode": {
    "name": "ipython",
    "version": 3
   },
   "file_extension": ".py",
   "mimetype": "text/x-python",
   "name": "python",
   "nbconvert_exporter": "python",
   "pygments_lexer": "ipython3",
   "version": "3.9.12"
  }
 },
 "nbformat": 4,
 "nbformat_minor": 5
}
